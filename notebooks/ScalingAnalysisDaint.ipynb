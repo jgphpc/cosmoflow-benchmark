{
 "cells": [
  {
   "cell_type": "markdown",
   "metadata": {},
   "source": [
    "# CosmoFlow Benchmark Scaling Analysis"
   ]
  },
  {
   "cell_type": "code",
   "execution_count": 1,
   "metadata": {},
   "outputs": [],
   "source": [
    "import os\n",
    "import pickle\n",
    "\n",
    "import pandas as pd\n",
    "import numpy as np\n",
    "\n",
    "import matplotlib.pyplot as plt"
   ]
  },
  {
   "cell_type": "code",
   "execution_count": 2,
   "metadata": {},
   "outputs": [],
   "source": [
    "%matplotlib inline"
   ]
  },
  {
   "cell_type": "code",
   "execution_count": 3,
   "metadata": {},
   "outputs": [],
   "source": [
    "plt.rcParams.update({'font.size': 14})"
   ]
  },
  {
   "cell_type": "code",
   "execution_count": 4,
   "metadata": {},
   "outputs": [],
   "source": [
    "def load_config(result_dir):\n",
    "    config_file = os.path.join(result_dir, 'config.pkl')\n",
    "    with open(config_file, 'rb') as f:\n",
    "        return pickle.load(f)\n",
    "\n",
    "def load_result(result_dir):\n",
    "    history_file = os.path.join(result_dir, 'history.csv')\n",
    "    return pd.read_csv(history_file)\n",
    "\n",
    "def compute_mean_time(r):\n",
    "    return r[r.epoch>0].time.mean()\n",
    "\n",
    "def get_num_samples(config, ranks):\n",
    "    dconf = config['data']\n",
    "    n = dconf['n_train'] + dconf['n_valid']\n",
    "    if not dconf['shard']:\n",
    "        n *= ranks\n",
    "    return n\n",
    "\n",
    "def get_scaling_results(path_pattern, ranks):\n",
    "    \"\"\"\n",
    "    Loops over ranks with specified file path pattern and computes scaling metrics.\n",
    "    Returns results in a dataframe.\n",
    "    \"\"\"\n",
    "    configs, results = [], []\n",
    "    for r in ranks:\n",
    "        result_dir = path_pattern % r\n",
    "        configs.append(load_config(result_dir))\n",
    "        results.append(load_result(result_dir).assign(ranks=r))\n",
    "    samples = np.array([get_num_samples(c,r) for (c,r) in zip(configs, ranks)])    \n",
    "    times = np.array([compute_mean_time(r) for r in results])\n",
    "    throughputs = samples / times\n",
    "    ideal = ranks * throughputs[0]\n",
    "    eff = throughputs / ideal\n",
    "    return pd.DataFrame(dict(ranks=ranks, samples=samples,\n",
    "                             times=times, throughputs=throughputs,\n",
    "                             ideal=ideal, eff=eff))"
   ]
  },
  {
   "cell_type": "code",
   "execution_count": 5,
   "metadata": {},
   "outputs": [
    {
     "name": "stdout",
     "output_type": "stream",
     "text": [
      "env: MLPERF_HPC_ROOT=/home/lukasd/src/mlperf\n",
      "env: MLPERF_COSMO_GPU_TIMESTAMP=2020-08-03_12-43-00_daint101\n",
      "env: MLPERF_COSMO_CPU_TIMESTAMP=2020-08-03_15-15-51_daint101\n"
     ]
    }
   ],
   "source": [
    "%env MLPERF_HPC_ROOT=/home/lukasd/src/mlperf\n",
    "\n",
    "%env MLPERF_COSMO_GPU_TIMESTAMP=2020-08-03_12-43-00_daint101\n",
    "%env MLPERF_COSMO_CPU_TIMESTAMP=2020-08-03_15-15-51_daint101"
   ]
  },
  {
   "cell_type": "code",
   "execution_count": 6,
   "metadata": {
    "pycharm": {
     "name": "#%%\n"
    }
   },
   "outputs": [
    {
     "name": "stdout",
     "output_type": "stream",
     "text": [
      "## GPU experiments ##\n",
      "total 56\n",
      "drwxr-xr-x 3 lukasd lukasd 4096 Aug  3 12:49 scaling-gpu-dummy-n1\n",
      "drwxr-xr-x 3 lukasd lukasd 4096 Aug  3 12:51 scaling-gpu-dummy-n16\n",
      "drwxr-xr-x 3 lukasd lukasd 4096 Aug  3 12:51 scaling-gpu-dummy-n2\n",
      "drwxr-xr-x 3 lukasd lukasd 4096 Aug  3 12:50 scaling-gpu-dummy-n32\n",
      "drwxr-xr-x 3 lukasd lukasd 4096 Aug  3 12:51 scaling-gpu-dummy-n4\n",
      "drwxr-xr-x 3 lukasd lukasd 4096 Aug  3 12:48 scaling-gpu-dummy-n64\n",
      "drwxr-xr-x 3 lukasd lukasd 4096 Aug  3 12:51 scaling-gpu-dummy-n8\n",
      "drwxr-xr-x 3 lukasd lukasd 4096 Aug  3 12:48 scaling-gpu-n1\n",
      "drwxr-xr-x 3 lukasd lukasd 4096 Aug  3 12:52 scaling-gpu-n16\n",
      "drwxr-xr-x 3 lukasd lukasd 4096 Aug  3 12:50 scaling-gpu-n2\n",
      "drwxr-xr-x 3 lukasd lukasd 4096 Aug  3 12:49 scaling-gpu-n32\n",
      "drwxr-xr-x 3 lukasd lukasd 4096 Aug  3 12:49 scaling-gpu-n4\n",
      "drwxr-xr-x 3 lukasd lukasd 4096 Aug  3 12:52 scaling-gpu-n64\n",
      "drwxr-xr-x 3 lukasd lukasd 4096 Aug  3 12:50 scaling-gpu-n8\n",
      "\n",
      "## CPU experiments ##\n",
      "total 56\n",
      "drwxr-xr-x 3 lukasd lukasd 4096 Aug  3 16:33 scaling-cpu-dummy-n1\n",
      "drwxr-xr-x 3 lukasd lukasd 4096 Aug  3 16:30 scaling-cpu-dummy-n16\n",
      "drwxr-xr-x 3 lukasd lukasd 4096 Aug  3 16:31 scaling-cpu-dummy-n2\n",
      "drwxr-xr-x 3 lukasd lukasd 4096 Aug  3 16:31 scaling-cpu-dummy-n32\n",
      "drwxr-xr-x 3 lukasd lukasd 4096 Aug  3 16:30 scaling-cpu-dummy-n4\n",
      "drwxr-xr-x 3 lukasd lukasd 4096 Aug  3 16:31 scaling-cpu-dummy-n64\n",
      "drwxr-xr-x 3 lukasd lukasd 4096 Aug  3 16:32 scaling-cpu-dummy-n8\n",
      "drwxr-xr-x 3 lukasd lukasd 4096 Aug  3 16:33 scaling-cpu-n1\n",
      "drwxr-xr-x 3 lukasd lukasd 4096 Aug  3 16:31 scaling-cpu-n16\n",
      "drwxr-xr-x 3 lukasd lukasd 4096 Aug  3 16:32 scaling-cpu-n2\n",
      "drwxr-xr-x 3 lukasd lukasd 4096 Aug  3 16:30 scaling-cpu-n32\n",
      "drwxr-xr-x 3 lukasd lukasd 4096 Aug  3 16:32 scaling-cpu-n4\n",
      "drwxr-xr-x 3 lukasd lukasd 4096 Aug  3 16:34 scaling-cpu-n64\n",
      "drwxr-xr-x 3 lukasd lukasd 4096 Aug  3 16:33 scaling-cpu-n8\n"
     ]
    }
   ],
   "source": [
    "%%bash\n",
    "\n",
    "echo \"## GPU experiments ##\"\n",
    "ls -l ${MLPERF_HPC_ROOT}/cosmoflow-benchmark/results/${MLPERF_COSMO_GPU_TIMESTAMP}\n",
    "echo \"\"\n",
    "echo \"## CPU experiments ##\"\n",
    "ls -l ${MLPERF_HPC_ROOT}/cosmoflow-benchmark/results/${MLPERF_COSMO_CPU_TIMESTAMP}\n"
   ]
  },
  {
   "cell_type": "markdown",
   "metadata": {},
   "source": [
    "## Daint GPU scaling"
   ]
  },
  {
   "cell_type": "code",
   "execution_count": 7,
   "metadata": {
    "collapsed": false,
    "jupyter": {
     "outputs_hidden": false
    },
    "pycharm": {
     "name": "#%%\n"
    }
   },
   "outputs": [],
   "source": [
    "results_gpu = get_scaling_results(\n",
    "    os.path.expandvars('${MLPERF_HPC_ROOT}/cosmoflow-benchmark/results/${MLPERF_COSMO_GPU_TIMESTAMP}/scaling-gpu-n%i'),\n",
    "    ranks=np.array([1, 2, 4, 8, 16, 32, 64]))\n",
    "\n",
    "results_gpu_dummy = get_scaling_results(\n",
    "    os.path.expandvars('${MLPERF_HPC_ROOT}/cosmoflow-benchmark/results/${MLPERF_COSMO_GPU_TIMESTAMP}/scaling-gpu-dummy-n%i'),\n",
    "    ranks=np.array([1, 2, 4, 8, 16, 32, 64]))"
   ]
  },
  {
   "cell_type": "code",
   "execution_count": 8,
   "metadata": {
    "collapsed": false,
    "jupyter": {
     "outputs_hidden": false
    },
    "pycharm": {
     "name": "#%%\n"
    }
   },
   "outputs": [
    {
     "data": {
      "text/html": [
       "<div>\n",
       "<style scoped>\n",
       "    .dataframe tbody tr th:only-of-type {\n",
       "        vertical-align: middle;\n",
       "    }\n",
       "\n",
       "    .dataframe tbody tr th {\n",
       "        vertical-align: top;\n",
       "    }\n",
       "\n",
       "    .dataframe thead th {\n",
       "        text-align: right;\n",
       "    }\n",
       "</style>\n",
       "<table border=\"1\" class=\"dataframe\">\n",
       "  <thead>\n",
       "    <tr style=\"text-align: right;\">\n",
       "      <th></th>\n",
       "      <th>ranks</th>\n",
       "      <th>samples</th>\n",
       "      <th>times</th>\n",
       "      <th>throughputs</th>\n",
       "      <th>ideal</th>\n",
       "      <th>eff</th>\n",
       "      <th>samples_dummy</th>\n",
       "      <th>times_dummy</th>\n",
       "      <th>throughputs_dummy</th>\n",
       "      <th>ideal_dummy</th>\n",
       "      <th>eff_dummy</th>\n",
       "    </tr>\n",
       "  </thead>\n",
       "  <tbody>\n",
       "    <tr>\n",
       "      <th>0</th>\n",
       "      <td>1</td>\n",
       "      <td>512</td>\n",
       "      <td>27.585474</td>\n",
       "      <td>18.560493</td>\n",
       "      <td>18.560493</td>\n",
       "      <td>1.000000</td>\n",
       "      <td>512</td>\n",
       "      <td>30.249063</td>\n",
       "      <td>16.926144</td>\n",
       "      <td>16.926144</td>\n",
       "      <td>1.000000</td>\n",
       "    </tr>\n",
       "    <tr>\n",
       "      <th>1</th>\n",
       "      <td>2</td>\n",
       "      <td>1024</td>\n",
       "      <td>28.193059</td>\n",
       "      <td>36.320997</td>\n",
       "      <td>37.120987</td>\n",
       "      <td>0.978449</td>\n",
       "      <td>1024</td>\n",
       "      <td>30.785995</td>\n",
       "      <td>33.261878</td>\n",
       "      <td>33.852288</td>\n",
       "      <td>0.982559</td>\n",
       "    </tr>\n",
       "    <tr>\n",
       "      <th>2</th>\n",
       "      <td>4</td>\n",
       "      <td>2048</td>\n",
       "      <td>28.447324</td>\n",
       "      <td>71.992712</td>\n",
       "      <td>74.241973</td>\n",
       "      <td>0.969704</td>\n",
       "      <td>2048</td>\n",
       "      <td>31.511835</td>\n",
       "      <td>64.991455</td>\n",
       "      <td>67.704575</td>\n",
       "      <td>0.959927</td>\n",
       "    </tr>\n",
       "    <tr>\n",
       "      <th>3</th>\n",
       "      <td>8</td>\n",
       "      <td>4096</td>\n",
       "      <td>28.971968</td>\n",
       "      <td>141.378040</td>\n",
       "      <td>148.483947</td>\n",
       "      <td>0.952144</td>\n",
       "      <td>4096</td>\n",
       "      <td>31.511445</td>\n",
       "      <td>129.984516</td>\n",
       "      <td>135.409151</td>\n",
       "      <td>0.959939</td>\n",
       "    </tr>\n",
       "    <tr>\n",
       "      <th>4</th>\n",
       "      <td>16</td>\n",
       "      <td>8192</td>\n",
       "      <td>29.003337</td>\n",
       "      <td>282.450262</td>\n",
       "      <td>296.967894</td>\n",
       "      <td>0.951114</td>\n",
       "      <td>8192</td>\n",
       "      <td>31.658819</td>\n",
       "      <td>258.758865</td>\n",
       "      <td>270.818302</td>\n",
       "      <td>0.955470</td>\n",
       "    </tr>\n",
       "    <tr>\n",
       "      <th>5</th>\n",
       "      <td>32</td>\n",
       "      <td>16384</td>\n",
       "      <td>29.266624</td>\n",
       "      <td>559.818575</td>\n",
       "      <td>593.935788</td>\n",
       "      <td>0.942557</td>\n",
       "      <td>16384</td>\n",
       "      <td>32.089008</td>\n",
       "      <td>510.579818</td>\n",
       "      <td>541.636603</td>\n",
       "      <td>0.942661</td>\n",
       "    </tr>\n",
       "    <tr>\n",
       "      <th>6</th>\n",
       "      <td>64</td>\n",
       "      <td>32768</td>\n",
       "      <td>29.642493</td>\n",
       "      <td>1105.440073</td>\n",
       "      <td>1187.871575</td>\n",
       "      <td>0.930606</td>\n",
       "      <td>32768</td>\n",
       "      <td>32.124002</td>\n",
       "      <td>1020.047261</td>\n",
       "      <td>1083.273206</td>\n",
       "      <td>0.941634</td>\n",
       "    </tr>\n",
       "  </tbody>\n",
       "</table>\n",
       "</div>"
      ],
      "text/plain": [
       "   ranks  samples      times  throughputs        ideal       eff  \\\n",
       "0      1      512  27.585474    18.560493    18.560493  1.000000   \n",
       "1      2     1024  28.193059    36.320997    37.120987  0.978449   \n",
       "2      4     2048  28.447324    71.992712    74.241973  0.969704   \n",
       "3      8     4096  28.971968   141.378040   148.483947  0.952144   \n",
       "4     16     8192  29.003337   282.450262   296.967894  0.951114   \n",
       "5     32    16384  29.266624   559.818575   593.935788  0.942557   \n",
       "6     64    32768  29.642493  1105.440073  1187.871575  0.930606   \n",
       "\n",
       "   samples_dummy  times_dummy  throughputs_dummy  ideal_dummy  eff_dummy  \n",
       "0            512    30.249063          16.926144    16.926144   1.000000  \n",
       "1           1024    30.785995          33.261878    33.852288   0.982559  \n",
       "2           2048    31.511835          64.991455    67.704575   0.959927  \n",
       "3           4096    31.511445         129.984516   135.409151   0.959939  \n",
       "4           8192    31.658819         258.758865   270.818302   0.955470  \n",
       "5          16384    32.089008         510.579818   541.636603   0.942661  \n",
       "6          32768    32.124002        1020.047261  1083.273206   0.941634  "
      ]
     },
     "execution_count": 8,
     "metadata": {},
     "output_type": "execute_result"
    }
   ],
   "source": [
    "# Summary table\n",
    "results_gpu.merge(results_gpu_dummy, on='ranks', suffixes=(None,'_dummy'))"
   ]
  },
  {
   "cell_type": "code",
   "execution_count": 9,
   "metadata": {
    "collapsed": false,
    "jupyter": {
     "outputs_hidden": false
    },
    "pycharm": {
     "name": "#%%\n"
    }
   },
   "outputs": [
    {
     "data": {
      "image/png": "[encoded data removed]",
      "text/plain": [
       "<Figure size 576x576 with 2 Axes>"
      ]
     },
     "metadata": {
      "needs_background": "light"
     },
     "output_type": "display_data"
    }
   ],
   "source": [
    "fig, (ax0, ax1) = plt.subplots(nrows=2, sharex=True, figsize=(8,8),\n",
    "                               gridspec_kw=dict(height_ratios=[.8, .2], hspace=0))\n",
    "\n",
    "ax0.set_title('Daint GPU scaling')\n",
    "ax0.plot(results_gpu.ranks, results_gpu.throughputs, 'o-', ms=8, label='Real data')\n",
    "ax0.plot(results_gpu_dummy.ranks, results_gpu_dummy.throughputs, '^-', ms=8, label='Dummy data')\n",
    "ax0.plot(results_gpu.ranks, results_gpu.ideal, '--', label='Ideal')\n",
    "ax0.set_ylabel('Training throughput [samples/s]')\n",
    "ax0.legend(loc=0)\n",
    "ax0.grid()\n",
    "\n",
    "# Scaling efficiency\n",
    "ax1.plot(results_gpu.ranks, results_gpu.eff, 'o-', ms=8)\n",
    "#ax1.plot(results_gpu_dummy.ranks, results_gpu.eff, '^-', ms=8)\n",
    "ax1.set_xlabel('Number of workers')\n",
    "ax1.set_ylabel('Efficiency')\n",
    "ax1.set_ylim(bottom=0.5)\n",
    "ax1.grid()\n",
    "\n",
    "plt.tight_layout()\n",
    "\n"
   ]
  },
  {
   "cell_type": "markdown",
   "metadata": {},
   "source": [
    "## Daint CPU scaling"
   ]
  },
  {
   "cell_type": "code",
   "execution_count": 16,
   "metadata": {
    "collapsed": false,
    "jupyter": {
     "outputs_hidden": false
    },
    "pycharm": {
     "name": "#%%\n"
    }
   },
   "outputs": [],
   "source": [
    "results = get_scaling_results(\n",
    "    os.path.expandvars('${MLPERF_HPC_ROOT}/cosmoflow-benchmark/results/${MLPERF_COSMO_CPU_TIMESTAMP}/scaling-cpu-n%i'),\n",
    "    ranks=np.array([1, 2, 4, 8, 16, 32, 64]))\n",
    "\n",
    "results_dummy = get_scaling_results(\n",
    "    os.path.expandvars('${MLPERF_HPC_ROOT}/cosmoflow-benchmark/results/${MLPERF_COSMO_CPU_TIMESTAMP}/scaling-cpu-dummy-n%i'),\n",
    "    ranks=np.array([1, 2, 4, 8, 16, 32, 64]))"
   ]
  },
  {
   "cell_type": "code",
   "execution_count": 12,
   "metadata": {
    "collapsed": false,
    "jupyter": {
     "outputs_hidden": false
    },
    "pycharm": {
     "name": "#%%\n"
    }
   },
   "outputs": [],
   "source": [
    "%%script false --no-raise-error\n",
    "\n",
    "path_pattern = os.path.expandvars('${MLPERF_HPC_ROOT}/cosmoflow-benchmark/results/${MLPERF_COSMO_CPU_TIMESTAMP}/scaling-cpu-dummy-n%i')\n",
    "ranks=np.array([1, 2, 4]) #, 8, 16, 32, 64])\n",
    "\n",
    "\n",
    "def compute_mean_time(r):\n",
    "    return r[r.epoch>0].time.mean()\n",
    "\n",
    "configs, results = [], []\n",
    "for r in ranks:\n",
    "    result_dir = path_pattern % r\n",
    "    configs.append(load_config(result_dir))\n",
    "    results.append(load_result(result_dir).assign(ranks=r))\n",
    "samples = np.array([get_num_samples(c,r) for (c,r) in zip(configs, ranks)])    \n",
    "times = np.array([r.time.mean() for r in results])\n",
    "throughputs = samples / times\n",
    "ideal = ranks * throughputs[0]\n",
    "eff = throughputs / ideal\n",
    "pd.DataFrame(dict(ranks=ranks, samples=samples,\n",
    "                  times=times, throughputs=throughputs,\n",
    "                  ideal=ideal, eff=eff))\n"
   ]
  },
  {
   "cell_type": "code",
   "execution_count": 13,
   "metadata": {
    "collapsed": false,
    "jupyter": {
     "outputs_hidden": false
    },
    "pycharm": {
     "name": "#%%\n"
    }
   },
   "outputs": [],
   "source": [
    "%%script false --no-raise-error\n",
    "\n",
    "dconf = configs[0]['data']\n",
    "n = dconf['n_train'] + dconf['n_valid']\n",
    "if not dconf['shard']:\n",
    "    n *= ranks\n",
    "n"
   ]
  },
  {
   "cell_type": "code",
   "execution_count": 14,
   "metadata": {
    "collapsed": false,
    "jupyter": {
     "outputs_hidden": false
    },
    "pycharm": {
     "name": "#%%\n"
    }
   },
   "outputs": [
    {
     "data": {
      "text/html": [
       "<div>\n",
       "<style scoped>\n",
       "    .dataframe tbody tr th:only-of-type {\n",
       "        vertical-align: middle;\n",
       "    }\n",
       "\n",
       "    .dataframe tbody tr th {\n",
       "        vertical-align: top;\n",
       "    }\n",
       "\n",
       "    .dataframe thead th {\n",
       "        text-align: right;\n",
       "    }\n",
       "</style>\n",
       "<table border=\"1\" class=\"dataframe\">\n",
       "  <thead>\n",
       "    <tr style=\"text-align: right;\">\n",
       "      <th></th>\n",
       "      <th>ranks</th>\n",
       "      <th>samples</th>\n",
       "      <th>times</th>\n",
       "      <th>throughputs</th>\n",
       "      <th>ideal</th>\n",
       "      <th>eff</th>\n",
       "      <th>samples_dummy</th>\n",
       "      <th>times_dummy</th>\n",
       "      <th>throughputs_dummy</th>\n",
       "      <th>ideal_dummy</th>\n",
       "      <th>eff_dummy</th>\n",
       "    </tr>\n",
       "  </thead>\n",
       "  <tbody>\n",
       "    <tr>\n",
       "      <th>0</th>\n",
       "      <td>1</td>\n",
       "      <td>64</td>\n",
       "      <td>420.400453</td>\n",
       "      <td>0.152236</td>\n",
       "      <td>0.152236</td>\n",
       "      <td>1.000000</td>\n",
       "      <td>64</td>\n",
       "      <td>416.331779</td>\n",
       "      <td>0.153724</td>\n",
       "      <td>0.153724</td>\n",
       "      <td>1.000000</td>\n",
       "    </tr>\n",
       "    <tr>\n",
       "      <th>1</th>\n",
       "      <td>2</td>\n",
       "      <td>128</td>\n",
       "      <td>488.072858</td>\n",
       "      <td>0.262256</td>\n",
       "      <td>0.304472</td>\n",
       "      <td>0.861348</td>\n",
       "      <td>128</td>\n",
       "      <td>484.396916</td>\n",
       "      <td>0.264246</td>\n",
       "      <td>0.307447</td>\n",
       "      <td>0.859485</td>\n",
       "    </tr>\n",
       "    <tr>\n",
       "      <th>2</th>\n",
       "      <td>4</td>\n",
       "      <td>256</td>\n",
       "      <td>484.418939</td>\n",
       "      <td>0.528468</td>\n",
       "      <td>0.608943</td>\n",
       "      <td>0.867845</td>\n",
       "      <td>256</td>\n",
       "      <td>487.066389</td>\n",
       "      <td>0.525596</td>\n",
       "      <td>0.614894</td>\n",
       "      <td>0.854774</td>\n",
       "    </tr>\n",
       "    <tr>\n",
       "      <th>3</th>\n",
       "      <td>8</td>\n",
       "      <td>512</td>\n",
       "      <td>507.745656</td>\n",
       "      <td>1.008379</td>\n",
       "      <td>1.217886</td>\n",
       "      <td>0.827974</td>\n",
       "      <td>512</td>\n",
       "      <td>513.707405</td>\n",
       "      <td>0.996676</td>\n",
       "      <td>1.229788</td>\n",
       "      <td>0.810445</td>\n",
       "    </tr>\n",
       "    <tr>\n",
       "      <th>4</th>\n",
       "      <td>16</td>\n",
       "      <td>1024</td>\n",
       "      <td>525.172876</td>\n",
       "      <td>1.949834</td>\n",
       "      <td>2.435773</td>\n",
       "      <td>0.800499</td>\n",
       "      <td>1024</td>\n",
       "      <td>527.347751</td>\n",
       "      <td>1.941793</td>\n",
       "      <td>2.459577</td>\n",
       "      <td>0.789482</td>\n",
       "    </tr>\n",
       "    <tr>\n",
       "      <th>5</th>\n",
       "      <td>32</td>\n",
       "      <td>2048</td>\n",
       "      <td>531.322841</td>\n",
       "      <td>3.854530</td>\n",
       "      <td>4.871546</td>\n",
       "      <td>0.791234</td>\n",
       "      <td>2048</td>\n",
       "      <td>523.755011</td>\n",
       "      <td>3.910225</td>\n",
       "      <td>4.919154</td>\n",
       "      <td>0.794898</td>\n",
       "    </tr>\n",
       "    <tr>\n",
       "      <th>6</th>\n",
       "      <td>64</td>\n",
       "      <td>4096</td>\n",
       "      <td>530.816406</td>\n",
       "      <td>7.716416</td>\n",
       "      <td>9.743091</td>\n",
       "      <td>0.791988</td>\n",
       "      <td>4096</td>\n",
       "      <td>533.304467</td>\n",
       "      <td>7.680416</td>\n",
       "      <td>9.838307</td>\n",
       "      <td>0.780664</td>\n",
       "    </tr>\n",
       "  </tbody>\n",
       "</table>\n",
       "</div>"
      ],
      "text/plain": [
       "   ranks  samples       times  throughputs     ideal       eff  samples_dummy  \\\n",
       "0      1       64  420.400453     0.152236  0.152236  1.000000             64   \n",
       "1      2      128  488.072858     0.262256  0.304472  0.861348            128   \n",
       "2      4      256  484.418939     0.528468  0.608943  0.867845            256   \n",
       "3      8      512  507.745656     1.008379  1.217886  0.827974            512   \n",
       "4     16     1024  525.172876     1.949834  2.435773  0.800499           1024   \n",
       "5     32     2048  531.322841     3.854530  4.871546  0.791234           2048   \n",
       "6     64     4096  530.816406     7.716416  9.743091  0.791988           4096   \n",
       "\n",
       "   times_dummy  throughputs_dummy  ideal_dummy  eff_dummy  \n",
       "0   416.331779           0.153724     0.153724   1.000000  \n",
       "1   484.396916           0.264246     0.307447   0.859485  \n",
       "2   487.066389           0.525596     0.614894   0.854774  \n",
       "3   513.707405           0.996676     1.229788   0.810445  \n",
       "4   527.347751           1.941793     2.459577   0.789482  \n",
       "5   523.755011           3.910225     4.919154   0.794898  \n",
       "6   533.304467           7.680416     9.838307   0.780664  "
      ]
     },
     "execution_count": 14,
     "metadata": {},
     "output_type": "execute_result"
    }
   ],
   "source": [
    "# Summary table\n",
    "results.merge(results_dummy, on='ranks', suffixes=(None,'_dummy'))"
   ]
  },
  {
   "cell_type": "code",
   "execution_count": 15,
   "metadata": {
    "collapsed": false,
    "jupyter": {
     "outputs_hidden": false
    },
    "pycharm": {
     "name": "#%%\n"
    }
   },
   "outputs": [
    {
     "data": {
      "image/png": "[encoded data removed]",
      "text/plain": [
       "<Figure size 576x576 with 2 Axes>"
      ]
     },
     "metadata": {
      "needs_background": "light"
     },
     "output_type": "display_data"
    }
   ],
   "source": [
    "fig, (ax0, ax1) = plt.subplots(nrows=2, sharex=True, figsize=(8,8),\n",
    "                               gridspec_kw=dict(height_ratios=[.8, .2], hspace=0))\n",
    "\n",
    "ax0.set_title('Daint CPU scaling')\n",
    "ax0.plot(results.ranks, results.throughputs, 'o-', ms=8, label='Real data')\n",
    "ax0.plot(results_dummy.ranks, results_dummy.throughputs, '^-', ms=8, label='Dummy data')\n",
    "ax0.plot(results.ranks, results.ideal, '--', label='Ideal')\n",
    "ax0.set_ylabel('Training throughput [samples/s]')\n",
    "ax0.legend(loc=0)\n",
    "ax0.grid()\n",
    "\n",
    "# Scaling efficiency\n",
    "ax1.plot(results.ranks, results.eff, 'o-', ms=8)\n",
    "ax1.set_xlabel('Number of workers')\n",
    "ax1.set_ylabel('Efficiency')\n",
    "ax1.set_ylim(bottom=0.5)\n",
    "ax1.grid()\n",
    "\n",
    "plt.tight_layout()"
   ]
  },
  {
   "cell_type": "code",
   "execution_count": null,
   "metadata": {
    "collapsed": false,
    "jupyter": {
     "outputs_hidden": false
    },
    "pycharm": {
     "name": "#%%\n"
    }
   },
   "outputs": [],
   "source": []
  },
  {
   "cell_type": "markdown",
   "metadata": {},
   "source": [
    "## Cori GPU scaling"
   ]
  },
  {
   "cell_type": "code",
   "execution_count": 6,
   "metadata": {},
   "outputs": [],
   "source": [
    "results_cgpu = get_scaling_results(\n",
    "    os.path.expandvars('${MLPERF_HPC_ROOT}/cosmoflow-benchmark/results/${MLPERF_COSMO_GPU_TIMESTAMP}/scaling-cgpu-n%i'),\n",
    "    ranks=np.array([1, 2, 4, 8, 16, 32, 64]))\n",
    "\n",
    "results_cgpu_dummy = get_scaling_results(\n",
    "    os.path.expandvars('${MLPERF_HPC_ROOT}/cosmoflow-benchmark/results/${MLPERF_COSMO_GPU_TIMESTAMP}/scaling-cgpu-dummy-n%i'),\n",
    "    ranks=np.array([1, 2, 4, 8, 16, 32, 64]))"
   ]
  },
  {
   "cell_type": "code",
   "execution_count": 7,
   "metadata": {},
   "outputs": [
    {
     "data": {
      "text/html": [
       "<div>\n",
       "<style scoped>\n",
       "    .dataframe tbody tr th:only-of-type {\n",
       "        vertical-align: middle;\n",
       "    }\n",
       "\n",
       "    .dataframe tbody tr th {\n",
       "        vertical-align: top;\n",
       "    }\n",
       "\n",
       "    .dataframe thead th {\n",
       "        text-align: right;\n",
       "    }\n",
       "</style>\n",
       "<table border=\"1\" class=\"dataframe\">\n",
       "  <thead>\n",
       "    <tr style=\"text-align: right;\">\n",
       "      <th></th>\n",
       "      <th>ranks</th>\n",
       "      <th>samples</th>\n",
       "      <th>times</th>\n",
       "      <th>throughputs</th>\n",
       "      <th>ideal</th>\n",
       "      <th>eff</th>\n",
       "      <th>samples_dummy</th>\n",
       "      <th>times_dummy</th>\n",
       "      <th>throughputs_dummy</th>\n",
       "      <th>ideal_dummy</th>\n",
       "      <th>eff_dummy</th>\n",
       "    </tr>\n",
       "  </thead>\n",
       "  <tbody>\n",
       "    <tr>\n",
       "      <td>0</td>\n",
       "      <td>1</td>\n",
       "      <td>512</td>\n",
       "      <td>12.893975</td>\n",
       "      <td>39.708467</td>\n",
       "      <td>39.708467</td>\n",
       "      <td>1.000000</td>\n",
       "      <td>512</td>\n",
       "      <td>11.679684</td>\n",
       "      <td>43.836801</td>\n",
       "      <td>43.836801</td>\n",
       "      <td>1.000000</td>\n",
       "    </tr>\n",
       "    <tr>\n",
       "      <td>1</td>\n",
       "      <td>2</td>\n",
       "      <td>1024</td>\n",
       "      <td>12.833653</td>\n",
       "      <td>79.790221</td>\n",
       "      <td>79.416934</td>\n",
       "      <td>1.004700</td>\n",
       "      <td>1024</td>\n",
       "      <td>12.799187</td>\n",
       "      <td>80.005081</td>\n",
       "      <td>87.673602</td>\n",
       "      <td>0.912533</td>\n",
       "    </tr>\n",
       "    <tr>\n",
       "      <td>2</td>\n",
       "      <td>4</td>\n",
       "      <td>2048</td>\n",
       "      <td>15.058182</td>\n",
       "      <td>136.005793</td>\n",
       "      <td>158.833869</td>\n",
       "      <td>0.856277</td>\n",
       "      <td>2048</td>\n",
       "      <td>12.773162</td>\n",
       "      <td>160.336178</td>\n",
       "      <td>175.347205</td>\n",
       "      <td>0.914393</td>\n",
       "    </tr>\n",
       "    <tr>\n",
       "      <td>3</td>\n",
       "      <td>8</td>\n",
       "      <td>4096</td>\n",
       "      <td>18.533700</td>\n",
       "      <td>221.002820</td>\n",
       "      <td>317.667738</td>\n",
       "      <td>0.695704</td>\n",
       "      <td>4096</td>\n",
       "      <td>13.916620</td>\n",
       "      <td>294.324333</td>\n",
       "      <td>350.694410</td>\n",
       "      <td>0.839262</td>\n",
       "    </tr>\n",
       "    <tr>\n",
       "      <td>4</td>\n",
       "      <td>16</td>\n",
       "      <td>8192</td>\n",
       "      <td>19.009904</td>\n",
       "      <td>430.933267</td>\n",
       "      <td>635.335475</td>\n",
       "      <td>0.678277</td>\n",
       "      <td>8192</td>\n",
       "      <td>15.088690</td>\n",
       "      <td>542.923196</td>\n",
       "      <td>701.388820</td>\n",
       "      <td>0.774069</td>\n",
       "    </tr>\n",
       "    <tr>\n",
       "      <td>5</td>\n",
       "      <td>32</td>\n",
       "      <td>16384</td>\n",
       "      <td>19.279959</td>\n",
       "      <td>849.794357</td>\n",
       "      <td>1270.670951</td>\n",
       "      <td>0.668776</td>\n",
       "      <td>16384</td>\n",
       "      <td>15.837898</td>\n",
       "      <td>1034.480685</td>\n",
       "      <td>1402.777639</td>\n",
       "      <td>0.737452</td>\n",
       "    </tr>\n",
       "    <tr>\n",
       "      <td>6</td>\n",
       "      <td>64</td>\n",
       "      <td>32768</td>\n",
       "      <td>22.272266</td>\n",
       "      <td>1471.246792</td>\n",
       "      <td>2541.341901</td>\n",
       "      <td>0.578925</td>\n",
       "      <td>32768</td>\n",
       "      <td>16.143928</td>\n",
       "      <td>2029.741404</td>\n",
       "      <td>2805.555279</td>\n",
       "      <td>0.723472</td>\n",
       "    </tr>\n",
       "  </tbody>\n",
       "</table>\n",
       "</div>"
      ],
      "text/plain": [
       "   ranks  samples      times  throughputs        ideal       eff  \\\n",
       "0      1      512  12.893975    39.708467    39.708467  1.000000   \n",
       "1      2     1024  12.833653    79.790221    79.416934  1.004700   \n",
       "2      4     2048  15.058182   136.005793   158.833869  0.856277   \n",
       "3      8     4096  18.533700   221.002820   317.667738  0.695704   \n",
       "4     16     8192  19.009904   430.933267   635.335475  0.678277   \n",
       "5     32    16384  19.279959   849.794357  1270.670951  0.668776   \n",
       "6     64    32768  22.272266  1471.246792  2541.341901  0.578925   \n",
       "\n",
       "   samples_dummy  times_dummy  throughputs_dummy  ideal_dummy  eff_dummy  \n",
       "0            512    11.679684          43.836801    43.836801   1.000000  \n",
       "1           1024    12.799187          80.005081    87.673602   0.912533  \n",
       "2           2048    12.773162         160.336178   175.347205   0.914393  \n",
       "3           4096    13.916620         294.324333   350.694410   0.839262  \n",
       "4           8192    15.088690         542.923196   701.388820   0.774069  \n",
       "5          16384    15.837898        1034.480685  1402.777639   0.737452  \n",
       "6          32768    16.143928        2029.741404  2805.555279   0.723472  "
      ]
     },
     "execution_count": 7,
     "metadata": {},
     "output_type": "execute_result"
    }
   ],
   "source": [
    "# Summary table\n",
    "results_cgpu.merge(results_cgpu_dummy, on='ranks', suffixes=(None,'_dummy'))"
   ]
  },
  {
   "cell_type": "code",
   "execution_count": 8,
   "metadata": {},
   "outputs": [
    {
     "data": {
      "image/png": "[encoded data removed]",
      "text/plain": [
       "<Figure size 576x576 with 2 Axes>"
      ]
     },
     "metadata": {
      "needs_background": "light"
     },
     "output_type": "display_data"
    }
   ],
   "source": [
    "fig, (ax0, ax1) = plt.subplots(nrows=2, sharex=True, figsize=(8,8),\n",
    "                               gridspec_kw=dict(height_ratios=[.8, .2], hspace=0))\n",
    "\n",
    "ax0.plot(results_cgpu.ranks, results_cgpu.throughputs, 'o-', ms=8, label='Real data')\n",
    "ax0.plot(results_cgpu_dummy.ranks, results_cgpu_dummy.throughputs, '^-', ms=8, label='Dummy data')\n",
    "ax0.plot(results_cgpu.ranks, results_cgpu.ideal, '--', label='Ideal')\n",
    "ax0.set_ylabel('Training throughput [samples/s]')\n",
    "ax0.legend(loc=0)\n",
    "ax0.grid()\n",
    "\n",
    "# Scaling efficiency\n",
    "ax1.plot(results_cgpu.ranks, results_cgpu.eff, 'o-', ms=8)\n",
    "ax1.set_xlabel('Number of workers')\n",
    "ax1.set_ylabel('Efficiency')\n",
    "ax1.set_ylim(bottom=0.5)\n",
    "ax1.grid()\n",
    "\n",
    "plt.tight_layout()"
   ]
  },
  {
   "cell_type": "markdown",
   "metadata": {},
   "source": [
    "## Cori CPU scaling"
   ]
  },
  {
   "cell_type": "code",
   "execution_count": 9,
   "metadata": {},
   "outputs": [],
   "source": [
    "results = get_scaling_results(\n",
    "    os.path.expandvars('${MLPERF_HPC_ROOT}/cosmoflow-benchmark/results/${MLPERF_COSMO_CPU_TIMESTAMP}/scaling-n%i'),\n",
    "    ranks=np.array([1, 2, 4, 8, 16, 32, 64, 128, 256, 512, 1024]))\n",
    "\n",
    "results_dummy = get_scaling_results(\n",
    "    os.path.expandvars('${MLPERF_HPC_ROOT}/cosmoflow-benchmark/results/${MLPERF_COSMO_CPU_TIMESTAMP}/scaling-dummy-n%i'),\n",
    "    ranks=np.array([1, 2, 4, 8, 16, 32, 64, 128, 256, 512, 1024]))"
   ]
  },
  {
   "cell_type": "code",
   "execution_count": 10,
   "metadata": {},
   "outputs": [
    {
     "data": {
      "text/html": [
       "<div>\n",
       "<style scoped>\n",
       "    .dataframe tbody tr th:only-of-type {\n",
       "        vertical-align: middle;\n",
       "    }\n",
       "\n",
       "    .dataframe tbody tr th {\n",
       "        vertical-align: top;\n",
       "    }\n",
       "\n",
       "    .dataframe thead th {\n",
       "        text-align: right;\n",
       "    }\n",
       "</style>\n",
       "<table border=\"1\" class=\"dataframe\">\n",
       "  <thead>\n",
       "    <tr style=\"text-align: right;\">\n",
       "      <th></th>\n",
       "      <th>ranks</th>\n",
       "      <th>samples</th>\n",
       "      <th>times</th>\n",
       "      <th>throughputs</th>\n",
       "      <th>ideal</th>\n",
       "      <th>eff</th>\n",
       "      <th>samples_dummy</th>\n",
       "      <th>times_dummy</th>\n",
       "      <th>throughputs_dummy</th>\n",
       "      <th>ideal_dummy</th>\n",
       "      <th>eff_dummy</th>\n",
       "    </tr>\n",
       "  </thead>\n",
       "  <tbody>\n",
       "    <tr>\n",
       "      <td>0</td>\n",
       "      <td>1</td>\n",
       "      <td>64</td>\n",
       "      <td>17.317688</td>\n",
       "      <td>3.695643</td>\n",
       "      <td>3.695643</td>\n",
       "      <td>1.000000</td>\n",
       "      <td>64</td>\n",
       "      <td>17.458997</td>\n",
       "      <td>3.665732</td>\n",
       "      <td>3.665732</td>\n",
       "      <td>1.000000</td>\n",
       "    </tr>\n",
       "    <tr>\n",
       "      <td>1</td>\n",
       "      <td>2</td>\n",
       "      <td>128</td>\n",
       "      <td>18.528065</td>\n",
       "      <td>6.908439</td>\n",
       "      <td>7.391287</td>\n",
       "      <td>0.934673</td>\n",
       "      <td>128</td>\n",
       "      <td>18.280915</td>\n",
       "      <td>7.001838</td>\n",
       "      <td>7.331463</td>\n",
       "      <td>0.955040</td>\n",
       "    </tr>\n",
       "    <tr>\n",
       "      <td>2</td>\n",
       "      <td>4</td>\n",
       "      <td>256</td>\n",
       "      <td>18.764791</td>\n",
       "      <td>13.642571</td>\n",
       "      <td>14.782574</td>\n",
       "      <td>0.922882</td>\n",
       "      <td>256</td>\n",
       "      <td>18.746286</td>\n",
       "      <td>13.656038</td>\n",
       "      <td>14.662927</td>\n",
       "      <td>0.931331</td>\n",
       "    </tr>\n",
       "    <tr>\n",
       "      <td>3</td>\n",
       "      <td>8</td>\n",
       "      <td>512</td>\n",
       "      <td>18.910925</td>\n",
       "      <td>27.074297</td>\n",
       "      <td>29.565148</td>\n",
       "      <td>0.915750</td>\n",
       "      <td>512</td>\n",
       "      <td>18.912969</td>\n",
       "      <td>27.071371</td>\n",
       "      <td>29.325853</td>\n",
       "      <td>0.923123</td>\n",
       "    </tr>\n",
       "    <tr>\n",
       "      <td>4</td>\n",
       "      <td>16</td>\n",
       "      <td>1024</td>\n",
       "      <td>19.091434</td>\n",
       "      <td>53.636619</td>\n",
       "      <td>59.130295</td>\n",
       "      <td>0.907092</td>\n",
       "      <td>1024</td>\n",
       "      <td>19.109365</td>\n",
       "      <td>53.586290</td>\n",
       "      <td>58.651707</td>\n",
       "      <td>0.913636</td>\n",
       "    </tr>\n",
       "    <tr>\n",
       "      <td>5</td>\n",
       "      <td>32</td>\n",
       "      <td>2048</td>\n",
       "      <td>19.181881</td>\n",
       "      <td>106.767423</td>\n",
       "      <td>118.260591</td>\n",
       "      <td>0.902815</td>\n",
       "      <td>2048</td>\n",
       "      <td>19.299099</td>\n",
       "      <td>106.118943</td>\n",
       "      <td>117.303414</td>\n",
       "      <td>0.904653</td>\n",
       "    </tr>\n",
       "    <tr>\n",
       "      <td>6</td>\n",
       "      <td>64</td>\n",
       "      <td>4096</td>\n",
       "      <td>19.419858</td>\n",
       "      <td>210.918124</td>\n",
       "      <td>236.521181</td>\n",
       "      <td>0.891752</td>\n",
       "      <td>4096</td>\n",
       "      <td>19.439863</td>\n",
       "      <td>210.701077</td>\n",
       "      <td>234.606828</td>\n",
       "      <td>0.898103</td>\n",
       "    </tr>\n",
       "    <tr>\n",
       "      <td>7</td>\n",
       "      <td>128</td>\n",
       "      <td>8192</td>\n",
       "      <td>19.644668</td>\n",
       "      <td>417.008818</td>\n",
       "      <td>473.042362</td>\n",
       "      <td>0.881546</td>\n",
       "      <td>8192</td>\n",
       "      <td>19.615880</td>\n",
       "      <td>417.620819</td>\n",
       "      <td>469.213656</td>\n",
       "      <td>0.890044</td>\n",
       "    </tr>\n",
       "    <tr>\n",
       "      <td>8</td>\n",
       "      <td>256</td>\n",
       "      <td>16384</td>\n",
       "      <td>20.561300</td>\n",
       "      <td>796.836774</td>\n",
       "      <td>946.084725</td>\n",
       "      <td>0.842247</td>\n",
       "      <td>16384</td>\n",
       "      <td>20.052720</td>\n",
       "      <td>817.046250</td>\n",
       "      <td>938.427312</td>\n",
       "      <td>0.870655</td>\n",
       "    </tr>\n",
       "    <tr>\n",
       "      <td>9</td>\n",
       "      <td>512</td>\n",
       "      <td>32768</td>\n",
       "      <td>21.172881</td>\n",
       "      <td>1547.640124</td>\n",
       "      <td>1892.169450</td>\n",
       "      <td>0.817918</td>\n",
       "      <td>32768</td>\n",
       "      <td>20.588671</td>\n",
       "      <td>1591.554910</td>\n",
       "      <td>1876.854623</td>\n",
       "      <td>0.847991</td>\n",
       "    </tr>\n",
       "    <tr>\n",
       "      <td>10</td>\n",
       "      <td>1024</td>\n",
       "      <td>65536</td>\n",
       "      <td>22.243103</td>\n",
       "      <td>2946.351459</td>\n",
       "      <td>3784.338899</td>\n",
       "      <td>0.778564</td>\n",
       "      <td>65536</td>\n",
       "      <td>23.047339</td>\n",
       "      <td>2843.538698</td>\n",
       "      <td>3753.709246</td>\n",
       "      <td>0.757528</td>\n",
       "    </tr>\n",
       "  </tbody>\n",
       "</table>\n",
       "</div>"
      ],
      "text/plain": [
       "    ranks  samples      times  throughputs        ideal       eff  \\\n",
       "0       1       64  17.317688     3.695643     3.695643  1.000000   \n",
       "1       2      128  18.528065     6.908439     7.391287  0.934673   \n",
       "2       4      256  18.764791    13.642571    14.782574  0.922882   \n",
       "3       8      512  18.910925    27.074297    29.565148  0.915750   \n",
       "4      16     1024  19.091434    53.636619    59.130295  0.907092   \n",
       "5      32     2048  19.181881   106.767423   118.260591  0.902815   \n",
       "6      64     4096  19.419858   210.918124   236.521181  0.891752   \n",
       "7     128     8192  19.644668   417.008818   473.042362  0.881546   \n",
       "8     256    16384  20.561300   796.836774   946.084725  0.842247   \n",
       "9     512    32768  21.172881  1547.640124  1892.169450  0.817918   \n",
       "10   1024    65536  22.243103  2946.351459  3784.338899  0.778564   \n",
       "\n",
       "    samples_dummy  times_dummy  throughputs_dummy  ideal_dummy  eff_dummy  \n",
       "0              64    17.458997           3.665732     3.665732   1.000000  \n",
       "1             128    18.280915           7.001838     7.331463   0.955040  \n",
       "2             256    18.746286          13.656038    14.662927   0.931331  \n",
       "3             512    18.912969          27.071371    29.325853   0.923123  \n",
       "4            1024    19.109365          53.586290    58.651707   0.913636  \n",
       "5            2048    19.299099         106.118943   117.303414   0.904653  \n",
       "6            4096    19.439863         210.701077   234.606828   0.898103  \n",
       "7            8192    19.615880         417.620819   469.213656   0.890044  \n",
       "8           16384    20.052720         817.046250   938.427312   0.870655  \n",
       "9           32768    20.588671        1591.554910  1876.854623   0.847991  \n",
       "10          65536    23.047339        2843.538698  3753.709246   0.757528  "
      ]
     },
     "execution_count": 10,
     "metadata": {},
     "output_type": "execute_result"
    }
   ],
   "source": [
    "# Summary table\n",
    "results.merge(results_dummy, on='ranks', suffixes=(None,'_dummy'))"
   ]
  },
  {
   "cell_type": "code",
   "execution_count": 11,
   "metadata": {},
   "outputs": [
    {
     "data": {
      "image/png": "[encoded data removed]",
      "text/plain": [
       "<Figure size 576x576 with 2 Axes>"
      ]
     },
     "metadata": {
      "needs_background": "light"
     },
     "output_type": "display_data"
    }
   ],
   "source": [
    "fig, (ax0, ax1) = plt.subplots(nrows=2, sharex=True, figsize=(8,8),\n",
    "                               gridspec_kw=dict(height_ratios=[.8, .2], hspace=0))\n",
    "\n",
    "ax0.plot(results.ranks, results.throughputs, 'o-', ms=8, label='Real data')\n",
    "ax0.plot(results_dummy.ranks, results_dummy.throughputs, '^-', ms=8, label='Dummy data')\n",
    "ax0.plot(results.ranks, results.ideal, '--', label='Ideal')\n",
    "ax0.set_ylabel('Training throughput [samples/s]')\n",
    "ax0.legend(loc=0)\n",
    "ax0.grid()\n",
    "\n",
    "# Scaling efficiency\n",
    "ax1.plot(results.ranks, results.eff, 'o-', ms=8)\n",
    "ax1.set_xlabel('Number of workers')\n",
    "ax1.set_ylabel('Efficiency')\n",
    "ax1.set_ylim(bottom=0.5)\n",
    "ax1.grid()\n",
    "\n",
    "plt.tight_layout()"
   ]
  },
  {
   "cell_type": "markdown",
   "metadata": {},
   "source": [
    "## Discussion"
   ]
  },
  {
   "cell_type": "markdown",
   "metadata": {
    "pycharm": {
     "name": "#%% md\n"
    }
   },
   "source": [
    "The scaling performance looks pretty decent, achieving about 80% of ideal throughput speedup at 1k CPU nodes.\n",
    "\n",
    "The data pipeline seems well tuned for CPU. We are not even using the Burst Buffer, but the scaling is about as good as with dummy data.\n",
    "However, it seems there may be some room for improvement there on the GPU system.\n",
    "\n"
   ]
  }
 ],
 "metadata": {
  "kernelspec": {
   "display_name": "Python 3",
   "language": "python",
   "name": "python3"
  },
  "language_info": {
   "codemirror_mode": {
    "name": "ipython",
    "version": 3
   },
   "file_extension": ".py",
   "mimetype": "text/x-python",
   "name": "python",
   "nbconvert_exporter": "python",
   "pygments_lexer": "ipython3",
   "version": "3.6.9"
  },
  "pycharm": {
   "stem_cell": {
    "cell_type": "raw",
    "metadata": {
     "collapsed": false
    },
    "source": []
   }
  }
 },
 "nbformat": 4,
 "nbformat_minor": 4
}
