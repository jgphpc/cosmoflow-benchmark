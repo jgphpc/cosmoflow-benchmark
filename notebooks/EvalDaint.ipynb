{
 "cells": [
  {
   "cell_type": "markdown",
   "metadata": {},
   "source": [
    "# Evaluation of CosmoFlow training"
   ]
  },
  {
   "cell_type": "code",
   "execution_count": null,
   "metadata": {},
   "outputs": [],
   "source": [
    "%pwd"
   ]
  },
  {
   "cell_type": "code",
   "execution_count": null,
   "metadata": {},
   "outputs": [],
   "source": [
    "import os\n",
    "import sys\n",
    "import yaml\n",
    "import pickle\n",
    "import glob\n",
    "\n",
    "sys.path.append('..')"
   ]
  },
  {
   "cell_type": "code",
   "execution_count": null,
   "metadata": {},
   "outputs": [],
   "source": [
    "import sklearn\n",
    "import numpy as np\n",
    "import pandas as pd\n",
    "import tensorflow as tf\n",
    "import matplotlib.pyplot as plt"
   ]
  },
  {
   "cell_type": "code",
   "execution_count": null,
   "metadata": {},
   "outputs": [],
   "source": [
    "from models import get_model\n",
    "from data.cosmo import construct_dataset\n",
    "from utils.optimizers import get_optimizer"
   ]
  },
  {
   "cell_type": "code",
   "execution_count": null,
   "metadata": {},
   "outputs": [],
   "source": [
    "%matplotlib inline"
   ]
  },
  {
   "cell_type": "code",
   "execution_count": null,
   "metadata": {},
   "outputs": [],
   "source": [
    "plt.rcParams.update({'font.size': 14})"
   ]
  },
  {
   "cell_type": "markdown",
   "metadata": {},
   "source": [
    "## Collected data"
   ]
  },
  {
   "cell_type": "code",
   "execution_count": null,
   "metadata": {},
   "outputs": [],
   "source": [
    "%env MLPERF_HPC_ROOT=/home/lukasd/src/mlperf\n",
    "\n",
    "# TODO: change weak_scaling -> submission_candidates\n",
    "%env MLPERF_COSMO_BENCHMARK_TIMESTAMP=weak_scaling/2020-08-03_12-43-00_daint101"
   ]
  },
  {
   "cell_type": "code",
   "execution_count": null,
   "metadata": {},
   "outputs": [],
   "source": [
    "%%bash\n",
    "\n",
    "echo \"## Data benchmark experiments ##\"\n",
    "set -x\n",
    "tree --filelimit 20  ${MLPERF_HPC_ROOT}/cosmoflow-benchmark/results/${MLPERF_COSMO_BENCHMARK_TIMESTAMP}/scaling-gpu-n64/ # alternatively -d\n",
    "set +x"
   ]
  },
  {
   "cell_type": "markdown",
   "metadata": {},
   "source": [
    "## Load the results"
   ]
  },
  {
   "cell_type": "code",
   "execution_count": null,
   "metadata": {},
   "outputs": [],
   "source": [
    "def load_config(result_dir):\n",
    "    config_file = os.path.join(result_dir, 'config.pkl')\n",
    "    with open(config_file, 'rb') as f:\n",
    "        return pickle.load(f)\n",
    "\n",
    "def load_history(result_dir):\n",
    "    history_file = os.path.join(result_dir, 'history.csv')\n",
    "    return pd.read_csv(history_file)"
   ]
  },
  {
   "cell_type": "code",
   "execution_count": null,
   "metadata": {},
   "outputs": [],
   "source": [
    "ls ${MLPERF_HPC_ROOT}/cosmoflow-benchmark/results"
   ]
  },
  {
   "cell_type": "code",
   "execution_count": null,
   "metadata": {},
   "outputs": [],
   "source": [
    "result_dir =  os.path.expandvars('${MLPERF_HPC_ROOT}/cosmoflow-benchmark/results/${MLPERF_COSMO_BENCHMARK_TIMESTAMP}/scaling-gpu-n64/')"
   ]
  },
  {
   "cell_type": "code",
   "execution_count": null,
   "metadata": {},
   "outputs": [],
   "source": [
    "ls -l $result_dir"
   ]
  },
  {
   "cell_type": "code",
   "execution_count": null,
   "metadata": {},
   "outputs": [],
   "source": [
    "config = load_config(result_dir)\n",
    "train_history = load_history(result_dir)"
   ]
  },
  {
   "cell_type": "code",
   "execution_count": null,
   "metadata": {},
   "outputs": [],
   "source": [
    "config"
   ]
  },
  {
   "cell_type": "markdown",
   "metadata": {},
   "source": [
    "## View training history"
   ]
  },
  {
   "cell_type": "code",
   "execution_count": null,
   "metadata": {},
   "outputs": [],
   "source": [
    "train_history"
   ]
  },
  {
   "cell_type": "code",
   "execution_count": null,
   "metadata": {},
   "outputs": [],
   "source": [
    "fig, (ax0, ax1) = plt.subplots(ncols=2, figsize=(14, 6))\n",
    "\n",
    "ax0.plot(train_history.epoch, train_history.loss, 'o-', label='train')\n",
    "ax0.plot(train_history.epoch, train_history.val_loss, 'o-', label='validation')\n",
    "ax0.set_xlabel('Epoch')\n",
    "ax0.set_ylabel('Loss')\n",
    "ax0.legend(loc=0)\n",
    "ax0.grid()\n",
    "\n",
    "ax1.plot(train_history.epoch, train_history.mean_absolute_error, 'o-', label='train')\n",
    "ax1.plot(train_history.epoch, train_history.val_mean_absolute_error, 'o-', label='validation')\n",
    "ax1.set_xlabel('Epoch')\n",
    "ax1.set_ylabel('Mean absolute error')\n",
    "ax1.legend(loc=0)\n",
    "ax1.grid()\n",
    "\n",
    "plt.tight_layout()"
   ]
  },
  {
   "cell_type": "code",
   "execution_count": null,
   "metadata": {},
   "outputs": [],
   "source": [
    "# Additional plots\n",
    "fig, (ax0, ax1) = plt.subplots(ncols=2, figsize=(12,4))\n",
    "\n",
    "# Plot the learning rate\n",
    "ax0.plot(train_history.epoch, train_history.lr, 'o-', label='learning rate')\n",
    "ax0.set_xlabel('Epoch')\n",
    "ax0.set_ylabel('Learning rate')\n",
    "ax0.grid()\n",
    "\n",
    "ax1.plot(train_history.epoch, train_history.time/60, 'o-', label='time [min]')\n",
    "ax1.set_ylim(bottom=0)\n",
    "ax1.set_xlabel('Epoch')\n",
    "ax1.set_ylabel('Epoch time [min]')\n",
    "ax1.grid()\n",
    "\n",
    "plt.tight_layout()"
   ]
  },
  {
   "cell_type": "code",
   "execution_count": null,
   "metadata": {},
   "outputs": [],
   "source": [
    "# Choose best epoch based on validation loss\n",
    "best_epoch = train_history.epoch.loc[train_history.val_loss.idxmin()]\n",
    "print('Best epoch:', best_epoch)\n",
    "\n",
    "train_history.loc[[best_epoch]]"
   ]
  },
  {
   "cell_type": "markdown",
   "metadata": {},
   "source": [
    "## Compare submission candidates (analogous to HPOAnalysis)\n",
    "\n",
    "Cf."
   ]
  },
  {
   "cell_type": "code",
   "execution_count": null,
   "metadata": {},
   "outputs": [],
   "source": [
    "result_dirs = sorted(glob.glob(os.path.expandvars('${MLPERF_HPC_ROOT}/cosmoflow-benchmark/results/${MLPERF_COSMO_BENCHMARK_TIMESTAMP}/') + '/scaling-*'))\n",
    "result_dirs"
   ]
  },
  {
   "cell_type": "code",
   "execution_count": null,
   "metadata": {},
   "outputs": [],
   "source": [
    "def load_result(path):\n",
    "    # Load the config\n",
    "    with open(os.path.join(path, 'config.pkl'), 'rb') as f:\n",
    "        config = pickle.load(f)\n",
    "    # Load the history\n",
    "    try:\n",
    "        history = pd.read_csv(os.path.join(path, 'history.csv'))\n",
    "    except Exception:\n",
    "        history = None\n",
    "    return config, history"
   ]
  },
  {
   "cell_type": "code",
   "execution_count": null,
   "metadata": {},
   "outputs": [],
   "source": [
    "results = [load_result(p) for p in result_dirs]\n",
    "results = [r for r in results if r[1] is not None]\n",
    "#results"
   ]
  },
  {
   "cell_type": "code",
   "execution_count": null,
   "metadata": {},
   "outputs": [],
   "source": [
    "def make_summary(config, history):\n",
    "    best = history.val_loss.idxmin()\n",
    "    return dict(\n",
    "        #path=config['output_dir'],\n",
    "        n_ranks=config['n_ranks'],\n",
    "        batch_size=config['data']['batch_size'], # log=config['data']['apply_log'],\n",
    "        conv_size=config['model']['conv_size'],\n",
    "        fc1_size=config['model']['fc1_size'],\n",
    "        fc2_size=config['model']['fc2_size'],\n",
    "        act=config['model']['hidden_activation'],\n",
    "        dropout=config['model']['dropout'],\n",
    "        optimizer=config['optimizer']['name'], # lr=config['optimizer']['lr'],\n",
    "        train_loss=history.loss[best],\n",
    "        val_loss=history.val_loss[best],\n",
    "        val_mae=history.val_mean_absolute_error[best],\n",
    "        last_epoch=history.epoch.max(),\n",
    "        best_epoch=history.epoch[best],\n",
    "    )\n",
    "\n",
    "# Make a summary table\n",
    "summaries = pd.DataFrame([make_summary(*r) for r in results])\n",
    "summaries.sort_values('val_loss')"
   ]
  },
  {
   "cell_type": "code",
   "execution_count": null,
   "metadata": {},
   "outputs": [],
   "source": [
    "best = summaries.val_loss.idxmin()"
   ]
  },
  {
   "cell_type": "code",
   "execution_count": null,
   "metadata": {},
   "outputs": [],
   "source": [
    "best_config, best_history = results[best]"
   ]
  },
  {
   "cell_type": "code",
   "execution_count": null,
   "metadata": {},
   "outputs": [],
   "source": [
    "best_config"
   ]
  },
  {
   "cell_type": "code",
   "execution_count": null,
   "metadata": {},
   "outputs": [],
   "source": [
    "best_history"
   ]
  },
  {
   "cell_type": "code",
   "execution_count": null,
   "metadata": {},
   "outputs": [],
   "source": [
    "fig, axs = plt.subplots(nrows=2, ncols=2, figsize=(14, 10))\n",
    "\n",
    "for i, ax in zip(summaries.sort_values('val_loss').index, axs.flatten()):\n",
    "    \n",
    "    history = results[i][1]\n",
    "    ax.set_title(i)\n",
    "    \n",
    "    ax.plot(history.epoch, history.loss, 'o-', label='Training')\n",
    "    ax.plot(history.epoch, history.val_loss, 'o-', label='Validation')\n",
    "    ax.set_xlabel('Epoch')\n",
    "    ax.set_ylabel('Loss')\n",
    "    ax.legend(loc=0)\n",
    "    ax.grid()\n",
    "\n",
    "plt.tight_layout()"
   ]
  },
  {
   "cell_type": "markdown",
   "metadata": {},
   "source": [
    "## Runtime statistics"
   ]
  },
  {
   "cell_type": "code",
   "execution_count": null,
   "metadata": {},
   "outputs": [],
   "source": [
    "plt.figure(figsize=(9,6))\n",
    "\n",
    "for r in results:\n",
    "    history = r[1]\n",
    "    \n",
    "    plt.plot(history.epoch, history.time/60, 'o-')\n",
    "    plt.xlabel('Epoch')\n",
    "    plt.ylabel('Epoch time [min]')"
   ]
  },
  {
   "cell_type": "code",
   "execution_count": null,
   "metadata": {},
   "outputs": [],
   "source": [
    "epoch_times = pd.concat([r[1].time for r in results])\n",
    "first_epoch_times = pd.Series([history.iloc[0].time for (config,history) in results])\n",
    "later_epoch_times = pd.concat([history.iloc[1:].time for (config,history) in results])"
   ]
  },
  {
   "cell_type": "code",
   "execution_count": null,
   "metadata": {},
   "outputs": [],
   "source": [
    "fig, axs = plt.subplots(nrows=1, ncols=3, figsize=(14, 10), sharey=True, sharex=True)\n",
    "\n",
    "hist_args = dict(bins=20, range=(0,100))\n",
    "\n",
    "for (title, e_times, ax) in zip(['total', 'first epoch', 'later epochs'],\n",
    "                                [epoch_times, first_epoch_times, later_epoch_times], axs.flatten()):\n",
    "#     plt.figure(figsize=(9,5))\n",
    "\n",
    "    ax.hist(e_times / 1., **hist_args)\n",
    "    # plt.set_xlim(60, 120)\n",
    "    ax.set_xlabel('Epoch time [s]')\n",
    "    ax.set_ylabel('Counts');\n",
    "    ax.set_title(title)"
   ]
  },
  {
   "cell_type": "code",
   "execution_count": null,
   "metadata": {},
   "outputs": [],
   "source": []
  }
 ],
 "metadata": {
  "kernelspec": {
   "display_name": "Python 3",
   "language": "python",
   "name": "python3"
  },
  "language_info": {
   "codemirror_mode": {
    "name": "ipython",
    "version": 3
   },
   "file_extension": ".py",
   "mimetype": "text/x-python",
   "name": "python",
   "nbconvert_exporter": "python",
   "pygments_lexer": "ipython3",
   "version": "3.6.9"
  }
 },
 "nbformat": 4,
 "nbformat_minor": 4
}
